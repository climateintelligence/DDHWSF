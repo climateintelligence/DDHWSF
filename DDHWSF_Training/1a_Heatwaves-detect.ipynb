{
 "cells": [
  {
   "cell_type": "markdown",
   "id": "5a1c09e8-8d27-4c1b-bdbd-2be11aa6b892",
   "metadata": {},
   "source": [
    "# NOTEBOOK 1A - Heatwave Detection.\n",
    "### This script calculates seasonal heatwave (HW) indicators from ERA5 daily max. temperature\n",
    "### User defines the location and the HW definition (e.g. threhsold and minimum duration)\n",
    "### Output: .csv files with annual values for number of heatwaves days in the summer (NDQ90, the target)"
   ]
  },
  {
   "cell_type": "code",
   "execution_count": 9,
   "id": "5c0d6eea-3bb8-4f47-a551-574f87f898f7",
   "metadata": {},
   "outputs": [],
   "source": [
    "# Import modules\n",
    "import re\n",
    "import numpy as np\n",
    "import pandas as pd\n",
    "import matplotlib.pyplot as plt\n",
    "from matplotlib.ticker import FixedLocator\n",
    "import glob\n",
    "import xarray as xr\n",
    "import gdown\n",
    "import zipfile\n",
    "\n",
    "import ipywidgets as widgets\n",
    "\n",
    "import sys\n",
    "import os\n",
    "sys.path.insert(1, '../Modules/')\n",
    "from HW_detection_algorithm import *"
   ]
  },
  {
   "cell_type": "markdown",
   "id": "ebfbddfe-8d63-4479-83e4-a8016b9b02de",
   "metadata": {},
   "source": [
    "## STEP 1 - Set-up Parameters. \n",
    "### Choose threshold percentiles from dropdown list"
   ]
  },
  {
   "cell_type": "code",
   "execution_count": 10,
   "id": "34af8bc4-7a0c-4064-84e3-c9fc16d9c9a2",
   "metadata": {},
   "outputs": [
    {
     "data": {
      "application/vnd.jupyter.widget-view+json": {
       "model_id": "6c135ca2a98e49df8a4dd3bc439012ca",
       "version_major": 2,
       "version_minor": 0
      },
      "text/plain": [
       "Dropdown(description='Threshold:', index=1, layout=Layout(width='200px'), options=(85, 90, 95, 99), style=Desc…"
      ]
     },
     "execution_count": 10,
     "metadata": {},
     "output_type": "execute_result"
    }
   ],
   "source": [
    "threshold_widget=widgets.Dropdown(\n",
    "    options=[85, 90, 95, 99],\n",
    "    value=90,\n",
    "    description='Threshold:',\n",
    "    style={'description_width': 'initial'},\n",
    "    layout=widgets.Layout(width='200px')\n",
    ")\n",
    "\n",
    "threshold_widget"
   ]
  },
  {
   "cell_type": "markdown",
   "id": "27440cb5-2f08-43c9-8f79-07edc5672cf5",
   "metadata": {},
   "source": [
    "### Choose a minimum duration for the HW definition (e.g. 3 days) #"
   ]
  },
  {
   "cell_type": "code",
   "execution_count": 11,
   "id": "85cd9d4f-6c5b-43d0-9a18-db2cf9c3e1d1",
   "metadata": {},
   "outputs": [
    {
     "data": {
      "application/vnd.jupyter.widget-view+json": {
       "model_id": "d798182371e4493eb63cb39155bf2651",
       "version_major": 2,
       "version_minor": 0
      },
      "text/plain": [
       "IntSlider(value=3, description='Min Duration:', layout=Layout(width='400px'), max=20, min=3, style=SliderStyle…"
      ]
     },
     "execution_count": 11,
     "metadata": {},
     "output_type": "execute_result"
    }
   ],
   "source": [
    "duration_widget = widgets.IntSlider(\n",
    "    value=3,                    # Default value\n",
    "    min=3,                      # Minimum duration\n",
    "    max=20,                     # Maximum duration  \n",
    "    step=1,                     # Step size\n",
    "    description='Min Duration:',\n",
    "    style={'description_width': 'initial'},\n",
    "    layout=widgets.Layout(width='400px')\n",
    ")\n",
    "\n",
    "duration_widget"
   ]
  },
  {
   "cell_type": "code",
   "execution_count": 12,
   "id": "cd11054e-95ad-4860-8713-bd510e8125f7",
   "metadata": {},
   "outputs": [
    {
     "name": "stdout",
     "output_type": "stream",
     "text": [
      "Threshold:  90\n",
      "Minimum duration:  3\n"
     ]
    }
   ],
   "source": [
    "percent_thresh=threshold_widget.value\n",
    "duration_min=duration_widget.value\n",
    "\n",
    "print (\"Threshold: \", percent_thresh)\n",
    "print (\"Minimum duration: \", duration_min)"
   ]
  },
  {
   "cell_type": "code",
   "execution_count": 13,
   "id": "d455cb27-69d7-4edf-8999-52537d45da21",
   "metadata": {},
   "outputs": [
    {
     "name": "stdout",
     "output_type": "stream",
     "text": [
      "90\n"
     ]
    }
   ],
   "source": [
    "var=\"tmax\" #tmax,tmin\n",
    "\n",
    "\n",
    "print (percent_thresh)\n",
    "### TIME ###\n",
    "clim_start=1993 #1981\n",
    "clim_end=2016 #2010\n",
    "period_start=1993\n",
    "period_end=2020\n",
    "if (period_end<clim_end) or (period_start>clim_start):\n",
    "    raise Exception(\"Climatology period falls outside of target period\")\n",
    "years=[*range(period_start,period_end+1)]\n",
    "climyears=[*range(clim_start,clim_end+1)]\n",
    "\n",
    "nyear=len(years)\n",
    "nclimyear=len(climyears)\n",
    "nday=123 # days in period May to August\n",
    "nrealisation=1 # ensemble members"
   ]
  },
  {
   "cell_type": "markdown",
   "id": "a38e0a21-e527-4fb9-9c84-f753be03bed6",
   "metadata": {},
   "source": [
    "## STEP 2 - Choose Target Location. \n",
    "### Tip: use wikipedia to find coordinates\n",
    "### What is the record of heatwaves in Cluj-Napoca? How about where you want to go on holiday this year? \n",
    "### Europe only...global model under construction! "
   ]
  },
  {
   "cell_type": "code",
   "execution_count": 14,
   "id": "646a06a4-80d6-4e6c-b9a3-abfbe7dbd4fc",
   "metadata": {},
   "outputs": [],
   "source": [
    "#region=\"Milano\"\n",
    "#lon='''09°11'24\"E'''\n",
    "#lat='''45°28'01\"N'''\n",
    "\n",
    "#region=\"London\"\n",
    "#lon = '''0°7'39\"W'''\n",
    "#lat = '''51°30'26\"N'''\n",
    "\n",
    "#region=\"Paris\"\n",
    "#lon = '''2°21'8\"W'''\n",
    "#lat = '''48°51'24\"N'''\n",
    "\n",
    "# Cluj-Napoca #\n",
    "region=\"Cluj-Napoca\"\n",
    "lon='''23°33'00\"E'''\n",
    "lat='''46°46'00\"N'''\n",
    "\n",
    "# Converts coords to integer value\n",
    "deg, minutes, seconds, direction =  re.split('[°\\'\"]', lat)\n",
    "latP= (float(deg) + float(minutes)/60 + float(seconds)/(60*60)) * (-1 if direction in ['W', 'S'] else 1)\n",
    "deg, minutes, seconds, direction =  re.split('[°\\'\"]',lon)\n",
    "lonP= (float(deg) + float(minutes)/60 + float(seconds)/(60*60)) * (-1 if direction in ['W', 'S'] else 1)\n",
    "\n",
    "# Find nearest ERA5 cell #\n",
    "def find_nearest(array, value):\n",
    "    #array = np.asarray(array)\n",
    "    idx = (np.abs(array - value)).argmin()\n",
    "    return array[idx]\n"
   ]
  },
  {
   "cell_type": "markdown",
   "id": "05e238f1-42ce-4d83-b31c-4aab00bf05f5",
   "metadata": {},
   "source": [
    "## STEP 3 - Data.\n",
    "### Download and open ERA5 temperature data #"
   ]
  },
  {
   "cell_type": "code",
   "execution_count": 15,
   "id": "ae1018d4-32ce-4abf-b519-03211dd630a7",
   "metadata": {},
   "outputs": [
    {
     "name": "stderr",
     "output_type": "stream",
     "text": [
      "Downloading...\n",
      "From (original): https://drive.google.com/uc?id=1PerAjyLh_7PB2RjumMrjmmoaIO3aFBzb\n",
      "From (redirected): https://drive.google.com/uc?id=1PerAjyLh_7PB2RjumMrjmmoaIO3aFBzb&confirm=t&uuid=15694c10-5b1b-442b-a519-a545f2f8460f\n",
      "To: /home/b/b382634/DDHWSF/DATA/data_bundle.zip\n",
      "100%|██████████| 52.8M/52.8M [00:01<00:00, 38.2MB/s]\n"
     ]
    }
   ],
   "source": [
    "url = \"https://drive.google.com/file/d/1PerAjyLh_7PB2RjumMrjmmoaIO3aFBzb/view?usp=share_link\"\n",
    "output = \"../DATA/data_bundle.zip\"\n",
    "gdown.download(url, output, quiet=False, fuzzy=True)\n",
    "\n",
    "with zipfile.ZipFile(output, 'r') as zip_ref:\n",
    "    zip_ref.extractall(\"../DATA/\")"
   ]
  },
  {
   "cell_type": "code",
   "execution_count": 16,
   "id": "922529bf-8ba9-43d1-b6e7-9b40a1b4900d",
   "metadata": {},
   "outputs": [
    {
     "name": "stdout",
     "output_type": "stream",
     "text": [
      "['../DATA/DDHWSF_DATA/ERA5_tmax_1993_EUR_MJJA.nc', '../DATA/DDHWSF_DATA/ERA5_tmax_1994_EUR_MJJA.nc', '../DATA/DDHWSF_DATA/ERA5_tmax_1995_EUR_MJJA.nc', '../DATA/DDHWSF_DATA/ERA5_tmax_1996_EUR_MJJA.nc', '../DATA/DDHWSF_DATA/ERA5_tmax_1997_EUR_MJJA.nc', '../DATA/DDHWSF_DATA/ERA5_tmax_1998_EUR_MJJA.nc', '../DATA/DDHWSF_DATA/ERA5_tmax_1999_EUR_MJJA.nc', '../DATA/DDHWSF_DATA/ERA5_tmax_2000_EUR_MJJA.nc', '../DATA/DDHWSF_DATA/ERA5_tmax_2001_EUR_MJJA.nc', '../DATA/DDHWSF_DATA/ERA5_tmax_2002_EUR_MJJA.nc', '../DATA/DDHWSF_DATA/ERA5_tmax_2003_EUR_MJJA.nc', '../DATA/DDHWSF_DATA/ERA5_tmax_2004_EUR_MJJA.nc', '../DATA/DDHWSF_DATA/ERA5_tmax_2005_EUR_MJJA.nc', '../DATA/DDHWSF_DATA/ERA5_tmax_2006_EUR_MJJA.nc', '../DATA/DDHWSF_DATA/ERA5_tmax_2007_EUR_MJJA.nc', '../DATA/DDHWSF_DATA/ERA5_tmax_2008_EUR_MJJA.nc', '../DATA/DDHWSF_DATA/ERA5_tmax_2009_EUR_MJJA.nc', '../DATA/DDHWSF_DATA/ERA5_tmax_2010_EUR_MJJA.nc', '../DATA/DDHWSF_DATA/ERA5_tmax_2011_EUR_MJJA.nc', '../DATA/DDHWSF_DATA/ERA5_tmax_2012_EUR_MJJA.nc', '../DATA/DDHWSF_DATA/ERA5_tmax_2013_EUR_MJJA.nc', '../DATA/DDHWSF_DATA/ERA5_tmax_2014_EUR_MJJA.nc', '../DATA/DDHWSF_DATA/ERA5_tmax_2015_EUR_MJJA.nc', '../DATA/DDHWSF_DATA/ERA5_tmax_2016_EUR_MJJA.nc', '../DATA/DDHWSF_DATA/ERA5_tmax_2017_EUR_MJJA.nc', '../DATA/DDHWSF_DATA/ERA5_tmax_2018_EUR_MJJA.nc', '../DATA/DDHWSF_DATA/ERA5_tmax_2019_EUR_MJJA.nc', '../DATA/DDHWSF_DATA/ERA5_tmax_2020_EUR_MJJA.nc']\n"
     ]
    }
   ],
   "source": [
    "files=sorted(glob(\"../DATA/DDHWSF_DATA/ERA5_tmax_*_EUR_MJJA.nc\"))[:-2]\n",
    "ds = xr.open_mfdataset(files, combine='by_coords')\n",
    "print (files)\n",
    "lons=ds.lon.values\n",
    "lats=ds.lat.values\n",
    "ind_lon=np.argwhere(lons==find_nearest(lons,lonP))[0] # Extract nearest grid cell to target location \n",
    "ind_lat=np.argwhere(lats==find_nearest(lats,latP))[0]\n",
    "t_data=ds[var].values[:,ind_lat,ind_lon].reshape(nyear,nday,1)"
   ]
  },
  {
   "cell_type": "markdown",
   "id": "ca6dff93-d872-438a-b648-12e8f12d68fb",
   "metadata": {},
   "source": [
    "## STEP 4 - HW Detection. \n",
    "### Run HW detection algorithm for ERA5 data"
   ]
  },
  {
   "cell_type": "code",
   "execution_count": 17,
   "id": "e534bf55-d955-45f9-ab42-acf549e3287a",
   "metadata": {},
   "outputs": [],
   "source": [
    "# Just click run! #\n",
    "HW_output=calc_HWMIyear(t_data, climyears, years, cross_valid = False, percent_thresh = percent_thresh, duration_min = duration_min, opt=\"polyfit\")"
   ]
  },
  {
   "cell_type": "markdown",
   "id": "3d144f32-9012-4dd7-b7e2-e4d6604bf433",
   "metadata": {},
   "source": [
    "## STEP 5 - Save.\n",
    "### Save ERA5 data for plotting in notebook 1b #"
   ]
  },
  {
   "cell_type": "code",
   "execution_count": 18,
   "id": "10f5c13f-9622-4b47-a252-8edeb94f6cfd",
   "metadata": {},
   "outputs": [
    {
     "name": "stdout",
     "output_type": "stream",
     "text": [
      "Saved heat wave days data to Output/NumberHWdays_ERA5_Cluj-Napoca_thresh90_dur3.csv\n"
     ]
    }
   ],
   "source": [
    "# Outputs number of HW days from May to July #\n",
    "hw_days = np.sum(HW_output['HW_occurrence'], axis=1)\n",
    "df = pd.DataFrame({\n",
    "    'year': years,\n",
    "    'NumberHWDays': hw_days\n",
    "})\n",
    "filename = f\"Output/NumberHWdays_ERA5_{region}_thresh{percent_thresh}_dur{duration_min}.csv\"\n",
    "if os.path.exists(filename):\n",
    "    os.remove(filename)\n",
    "df.to_csv(filename, index=False)\n",
    "print(f\"Saved heat wave days data to {filename}\")"
   ]
  },
  {
   "cell_type": "markdown",
   "id": "42293576-e4a6-4076-8982-653a634719da",
   "metadata": {},
   "source": [
    "### Extract HW data for chosen location in past2k, and save data for plotting in notebook 1b \n",
    "### \"past2k\" is a 1850-year paleo-climate simulation used to rpovide a long-term record of historical heatwaves \n",
    "### Here, it used to provide more training data for the feature selection"
   ]
  },
  {
   "cell_type": "code",
   "execution_count": 19,
   "id": "58009c7f-ba30-44a9-a236-fe54d5ddd4b3",
   "metadata": {},
   "outputs": [
    {
     "name": "stdout",
     "output_type": "stream",
     "text": [
      "(1850, 1, 26, 41)\n",
      "Saved heat wave days data to Output/NumberHWdays_past2k_Cluj-Napoca_thresh90_dur3.csv\n"
     ]
    },
    {
     "name": "stderr",
     "output_type": "stream",
     "text": [
      "/tmp/ipykernel_1504132/4195727511.py:7: DeprecationWarning: Conversion of an array with ndim > 0 to a scalar is deprecated, and will error in future. Ensure you extract a single element from your array before performing this operation. (Deprecated NumPy 1.25.)\n",
      "  ind_lon=int(np.argwhere(lons==find_nearest(lons,lonP))[0])\n",
      "/tmp/ipykernel_1504132/4195727511.py:8: DeprecationWarning: Conversion of an array with ndim > 0 to a scalar is deprecated, and will error in future. Ensure you extract a single element from your array before performing this operation. (Deprecated NumPy 1.25.)\n",
      "  ind_lat=int(np.argwhere(lats==find_nearest(lats,latP))[0])\n"
     ]
    }
   ],
   "source": [
    "ds2 = xr.open_dataset(\"../DATA/DDHWSF_DATA/past2k_tasmax_HWs_EUR_MJJA_period70018850_clim88218850.nc\", decode_times=False)\n",
    "\n",
    "past2k_HWs=ds2['NDQ90_May'].values+ds2['NDQ90_Jun'].values+ds2['NDQ90_Jul'].values\n",
    "print (past2k_HWs.shape)\n",
    "lons=ds2.lon.values\n",
    "lats=ds2.lat.values\n",
    "ind_lon=int(np.argwhere(lons==find_nearest(lons,lonP))[0])\n",
    "ind_lat=int(np.argwhere(lats==find_nearest(lats,latP))[0])\n",
    "\n",
    "past2k_HWs_target=past2k_HWs[:,0,ind_lat,ind_lon]\n",
    "\n",
    "dataset_out=xr.DataArray(past2k_HWs_target, dims=[\"year\"], name=\"NumberHWDays\")\n",
    "dataset_out.to_netcdf(f\"NumberHWdays_past2k_{region}.nc\")\n",
    "\n",
    "df = pd.DataFrame({\n",
    "    'year': range(0,1850,1),\n",
    "    'NumberHWDays': past2k_HWs_target\n",
    "})\n",
    "\n",
    "# Create filename\n",
    "filename = f\"Output/NumberHWdays_past2k_{region}_thresh90_dur3.csv\"\n",
    "\n",
    "# Remove existing file if it exists\n",
    "if os.path.exists(filename):\n",
    "    os.remove(filename)\n",
    "\n",
    "# Save to CSV\n",
    "df.to_csv(filename, index=False)\n",
    "\n",
    "print(f\"Saved heat wave days data to {filename}\")\n"
   ]
  },
  {
   "cell_type": "code",
   "execution_count": null,
   "id": "042b6875-98b2-4b40-a497-5a435d03264c",
   "metadata": {},
   "outputs": [],
   "source": []
  }
 ],
 "metadata": {
  "kernelspec": {
   "display_name": "Python (ropy)",
   "language": "python",
   "name": "ropy"
  },
  "language_info": {
   "codemirror_mode": {
    "name": "ipython",
    "version": 3
   },
   "file_extension": ".py",
   "mimetype": "text/x-python",
   "name": "python",
   "nbconvert_exporter": "python",
   "pygments_lexer": "ipython3",
   "version": "3.10.16"
  }
 },
 "nbformat": 4,
 "nbformat_minor": 5
}
