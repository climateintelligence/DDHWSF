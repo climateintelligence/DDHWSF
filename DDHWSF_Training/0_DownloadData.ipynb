{
 "cells": [
  {
   "cell_type": "markdown",
   "id": "5a1c09e8-8d27-4c1b-bdbd-2be11aa6b892",
   "metadata": {},
   "source": [
    "# NOTEBOOK 0 - Download ERA5 temperature data"
   ]
  },
  {
   "cell_type": "code",
   "execution_count": 1,
   "id": "5c0d6eea-3bb8-4f47-a551-574f87f898f7",
   "metadata": {},
   "outputs": [],
   "source": [
    "# Import modules\n",
    "import gdown\n",
    "import zipfile"
   ]
  },
  {
   "cell_type": "code",
   "execution_count": 2,
   "id": "ae1018d4-32ce-4abf-b519-03211dd630a7",
   "metadata": {},
   "outputs": [
    {
     "name": "stderr",
     "output_type": "stream",
     "text": [
      "Downloading...\n",
      "From (original): https://drive.google.com/uc?id=1PerAjyLh_7PB2RjumMrjmmoaIO3aFBzb\n",
      "From (redirected): https://drive.google.com/uc?id=1PerAjyLh_7PB2RjumMrjmmoaIO3aFBzb&confirm=t&uuid=96fc9d8f-3f17-48ff-8fbc-3d70817e57c9\n",
      "To: /home/b/b382634/DDHWSF/DATA/data_bundle.zip\n",
      "100%|██████████| 52.8M/52.8M [00:00<00:00, 54.5MB/s]\n"
     ]
    }
   ],
   "source": [
    "url = \"https://drive.google.com/file/d/1PerAjyLh_7PB2RjumMrjmmoaIO3aFBzb/view?usp=share_link\"\n",
    "output = \"../DATA/data_bundle.zip\"\n",
    "gdown.download(url, output, quiet=False, fuzzy=True)\n",
    "\n",
    "with zipfile.ZipFile(output, 'r') as zip_ref:\n",
    "    zip_ref.extractall(\"../DATA/\")"
   ]
  }
 ],
 "metadata": {
  "kernelspec": {
   "display_name": "Python (ropy)",
   "language": "python",
   "name": "ropy"
  },
  "language_info": {
   "codemirror_mode": {
    "name": "ipython",
    "version": 3
   },
   "file_extension": ".py",
   "mimetype": "text/x-python",
   "name": "python",
   "nbconvert_exporter": "python",
   "pygments_lexer": "ipython3",
   "version": "3.10.16"
  }
 },
 "nbformat": 4,
 "nbformat_minor": 5
}
