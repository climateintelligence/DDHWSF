{
 "cells": [
  {
   "cell_type": "code",
   "execution_count": 1,
   "id": "35083018-2fb4-403f-8b37-bb01d9eec041",
   "metadata": {},
   "outputs": [],
   "source": [
    "from PyCROSL.CRO_SL import *\n",
    "from PyCROSL.AbsObjectiveFunc import *\n",
    "from PyCROSL.SubstrateReal import *\n",
    "from PyCROSL.SubstrateInt import *\n",
    "from sklearn.model_selection import train_test_split\n",
    "from sklearn.preprocessing import StandardScaler\n",
    "from sklearn.metrics import accuracy_score, confusion_matrix, classification_report, f1_score\n",
    "import warnings\n",
    "import sys\n",
    "warnings.filterwarnings('ignore')\n",
    "import pandas as pd\n",
    "import numpy as np\n",
    "import xarray as xr\n",
    "# Import the ml_prediction class from the separate file\n",
    "from optimisation import optimisation\n",
    "\n",
    "import ipywidgets as widgets\n",
    "from IPython.display import display"
   ]
  },
  {
   "cell_type": "code",
   "execution_count": 2,
   "id": "f30f01f9-85b7-4916-85ee-1e8dbcc1addf",
   "metadata": {},
   "outputs": [],
   "source": [
    "region=\"Cluj-Napoca\""
   ]
  },
  {
   "cell_type": "code",
   "execution_count": 3,
   "id": "5e4d727f-3aa0-4e1e-a7d0-c90f36b008a6",
   "metadata": {},
   "outputs": [],
   "source": [
    "# 1 - FEATURE SELECTION SET-UP #\n",
    "# Aim: Identify optimal combinations of potential predictors \n",
    "# Method: An optimization algorithm is used to test various combinations of predictors used to recreate the HW record.\n",
    "# The algorithm optimizes the F1-score of validation period.\n",
    "num_eval = 1000\n",
    "max_lag = 30\n",
    "max_duration = 5\n",
    "\n",
    "first_train = \"7002-04-30\" # training period 1600 years #\n",
    "last_train = \"8600-04-30\" # test period 250 years\n",
    "first_test = last_train\n",
    "last_test = \"8851-04-30\"\n",
    "\n",
    "sol_data = pd.DataFrame(columns=['CV', 'Test', 'Sol'])\n",
    "indiv_file = 'Output/optimisation_output.csv'\n",
    "solution_file = 'Output/optimisation_output_sol.csv'\n",
    "sol_data.to_csv(indiv_file, sep=' ', header=sol_data.columns, index=None)\n"
   ]
  },
  {
   "cell_type": "code",
   "execution_count": 4,
   "id": "1608a1bd-ec54-48c5-930a-c30b16a4efd3",
   "metadata": {},
   "outputs": [],
   "source": [
    "# 3 - LOAD DATA #\n",
    "# Potential Predictor dataset\n",
    "pred_dataframe = pd.read_csv('Predictors_dataset_past2k_weekly.csv', index_col=0)\n",
    "\n",
    "# Number of HW days per month in past2k period, threshold = 90th percentile of 8821-8850\n",
    "ds=xr.open_dataset(f\"NumberHWdays_past2k_{region}.nc\")\n",
    "NDQ90=ds.NumberHWDays\n",
    "\n",
    "target_dates=[] # dummy date for target\n",
    "train_years=range(7000,8850,1)\n",
    "\n",
    "for year in train_years:\n",
    "    target_dates.append(str(year).zfill(4)+\"-04-30\")\n",
    "\n",
    "target_dates=target_dates\n",
    "\n",
    "df_NDQ90=pd.DataFrame(NDQ90,columns=['NDQ90'])\n",
    "df_NDQ90.index = target_dates\n",
    "target_dataset=df_NDQ90\n",
    "\n",
    "\n",
    "first_train_index=int(np.argwhere(df_NDQ90.index==first_train))\n",
    "last_train_index=int(np.argwhere(df_NDQ90.index==last_train))\n"
   ]
  },
  {
   "cell_type": "code",
   "execution_count": 5,
   "id": "4de4088a-c585-4f44-baf1-4501cc50cfc6",
   "metadata": {},
   "outputs": [],
   "source": [
    "# Initialize the objective function with size = 3 * number of predictors\n",
    "objfunc = optimisation(\n",
    "    size=3*pred_dataframe.shape[1],\n",
    "    pred_dataframe=pred_dataframe,\n",
    "    target_dataset=target_dataset,\n",
    "    first_train_index=first_train_index,\n",
    "    last_train_index=last_train_index,\n",
    "    indiv_file=indiv_file\n",
    ")\n",
    "\n",
    "# Define CRO-SL parameters\n",
    "params = {\n",
    "    \"popSize\": 100,\n",
    "    \"rho\": 0.6,\n",
    "    \"Fb\": 0.98,\n",
    "    \"Fd\": 0.2,\n",
    "    \"Pd\": 0.8,\n",
    "    \"k\": 3,\n",
    "    \"K\": 20,\n",
    "    \"group_subs\": True,\n",
    "\n",
    "    \"stop_cond\": \"Neval\",\n",
    "    \"time_limit\": 4000.0,\n",
    "    \"Ngen\": 10000,\n",
    "    \"Neval\": num_eval,\n",
    "    \"fit_target\": 1000, \n",
    "\n",
    "    \"verbose\": True,\n",
    "    \"v_timer\": 1,\n",
    "    \"Njobs\": 1,\n",
    "\n",
    "    \"dynamic\": True,\n",
    "    \"dyn_method\": \"success\",\n",
    "    \"dyn_metric\": \"avg\",\n",
    "    \"dyn_steps\": 10,\n",
    "    \"prob_amp\": 0.01\n",
    "}\n",
    "\n",
    "# Define operators for the algorithm\n",
    "operators = [\n",
    "    SubstrateInt(\"BLXalpha\", {\"F\": 0.8}),\n",
    "    SubstrateInt(\"Multipoint\"),\n",
    "    SubstrateInt(\"HS\", {\"F\": 0.7, \"Cr\": 0.8, \"Par\": 0.2}),\n",
    "    SubstrateInt(\"Xor\"),\n",
    "]"
   ]
  },
  {
   "cell_type": "code",
   "execution_count": null,
   "id": "5811e9e1-b4e6-4302-8277-a5519b41d179",
   "metadata": {},
   "outputs": [],
   "source": [
    "# Initialize and run the optimization algorithm\n",
    "cro_alg = CRO_SL(objfunc, operators, params)\n",
    "solution, obj_value = cro_alg.optimize()\n",
    "\n",
    "# Save final solution\n",
    "solution.tofile(solution_file, sep=',')\n",
    "print(f\"Optimization completed. Best objective value: {obj_value}\")\n",
    "print(f\"Solution saved to {solution_file}\")"
   ]
  },
  {
   "cell_type": "code",
   "execution_count": null,
   "id": "3c25c0a1-57ed-4092-a7d7-616b0fa7a76b",
   "metadata": {},
   "outputs": [],
   "source": []
  }
 ],
 "metadata": {
  "kernelspec": {
   "display_name": "Python (ropy)",
   "language": "python",
   "name": "ropy"
  },
  "language_info": {
   "codemirror_mode": {
    "name": "ipython",
    "version": 3
   },
   "file_extension": ".py",
   "mimetype": "text/x-python",
   "name": "python",
   "nbconvert_exporter": "python",
   "pygments_lexer": "ipython3",
   "version": "3.10.16"
  }
 },
 "nbformat": 4,
 "nbformat_minor": 5
}
