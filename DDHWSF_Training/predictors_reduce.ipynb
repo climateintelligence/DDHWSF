{
 "cells": [
  {
   "cell_type": "code",
   "execution_count": 20,
   "id": "b23bb6d2-aa15-4595-ace3-3a2d2d11752e",
   "metadata": {},
   "outputs": [],
   "source": [
    "import pandas as pd"
   ]
  },
  {
   "cell_type": "code",
   "execution_count": 21,
   "id": "ac4a784c-34e7-46b7-85cc-dbcb9002da23",
   "metadata": {},
   "outputs": [
    {
     "name": "stdout",
     "output_type": "stream",
     "text": [
      "(2184, 62)\n"
     ]
    }
   ],
   "source": [
    "pred_dataframe = pd.read_csv('Predictors_dataset_ERA5_weekly.csv', index_col=0)\n",
    "print (pred_dataframe.shape)"
   ]
  },
  {
   "cell_type": "code",
   "execution_count": 22,
   "id": "09677b09-eb5b-4003-8eed-3659c3a78293",
   "metadata": {},
   "outputs": [],
   "source": [
    "pred_dataframe_light=pred_dataframe.drop(columns=['olrNorthAtlantic_cluster1','olrNorthAtlantic_cluster2','olrNorthAtlantic_cluster3','olrNorthAtlantic_cluster4','olrNorthAtlantic_cluster5'])\n",
    "pred_dataframe_light=pred_dataframe_light.drop(columns=['mslpWorld_cluster1','mslpWorld_cluster2','mslpWorld_cluster3','mslpWorld_cluster4','mslpWorld_cluster5'])\n",
    "pred_dataframe_light=pred_dataframe_light.drop(columns=['sstNorthAtlantic_cluster1','sstNorthAtlantic_cluster2','sstNorthAtlantic_cluster3','sstNorthAtlantic_cluster4','sstNorthAtlantic_cluster5'])\n",
    "pred_dataframe_light=pred_dataframe_light.drop(columns=['z500World_cluster1','z500World_cluster2','z500World_cluster3','z500World_cluster4','z500World_cluster5'])\n",
    "pred_dataframe_light=pred_dataframe_light.drop(columns=['sicArctic_cluster1','sicArctic_cluster2','sicArctic_cluster3','sicArctic_cluster4','sicArctic_cluster5'])\n"
   ]
  },
  {
   "cell_type": "code",
   "execution_count": 23,
   "id": "8d8f04dd-a123-4434-a490-132000a5fbfe",
   "metadata": {},
   "outputs": [
    {
     "name": "stdout",
     "output_type": "stream",
     "text": [
      "(2184, 37)\n",
      "Index(['mslpEurope_cluster1', 'mslpEurope_cluster2', 'mslpEurope_cluster3',\n",
      "       'mslpEurope_cluster4', 'mslpEurope_cluster5', 'smEurope_cluster1',\n",
      "       'smEurope_cluster2', 'smEurope_cluster3', 'smEurope_cluster4',\n",
      "       'smEurope_cluster5', 'tmaxEurope_cluster1', 'tmaxEurope_cluster2',\n",
      "       'tmaxEurope_cluster3', 'tmaxEurope_cluster4', 'tmaxEurope_cluster5',\n",
      "       'z500Europe_cluster1', 'z500Europe_cluster2', 'z500Europe_cluster3',\n",
      "       'z500Europe_cluster4', 'z500Europe_cluster5', 'sstWorld_cluster1',\n",
      "       'sstWorld_cluster2', 'sstWorld_cluster3', 'sstWorld_cluster4',\n",
      "       'sstWorld_cluster5', 'sstMediterranean_cluster1',\n",
      "       'sstMediterranean_cluster2', 'sstMediterranean_cluster3',\n",
      "       'sstMediterranean_cluster4', 'sstMediterranean_cluster5',\n",
      "       'olrTropics_cluster1', 'olrTropics_cluster2', 'olrTropics_cluster3',\n",
      "       'olrTropics_cluster4', 'olrTropics_cluster5', 'weekofyear', 'data_CO2'],\n",
      "      dtype='object')\n"
     ]
    }
   ],
   "source": [
    "print (pred_dataframe_light.shape)\n",
    "print (pred_dataframe_light.columns)\n"
   ]
  },
  {
   "cell_type": "code",
   "execution_count": 24,
   "id": "3ad3e231-6660-4799-b7ef-92bcaa261bbd",
   "metadata": {},
   "outputs": [],
   "source": [
    "pred_dataframe_light.to_csv(\"Predictors_dataset_ERA5_weekly-smallsample.csv\") "
   ]
  },
  {
   "cell_type": "code",
   "execution_count": null,
   "id": "eaa469d2-2178-4266-9633-25b932a0ff51",
   "metadata": {},
   "outputs": [],
   "source": []
  }
 ],
 "metadata": {
  "kernelspec": {
   "display_name": "Python (ropy)",
   "language": "python",
   "name": "ropy"
  },
  "language_info": {
   "codemirror_mode": {
    "name": "ipython",
    "version": 3
   },
   "file_extension": ".py",
   "mimetype": "text/x-python",
   "name": "python",
   "nbconvert_exporter": "python",
   "pygments_lexer": "ipython3",
   "version": "3.10.16"
  }
 },
 "nbformat": 4,
 "nbformat_minor": 5
}
