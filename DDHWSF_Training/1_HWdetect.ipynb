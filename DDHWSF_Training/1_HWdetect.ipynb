{
 "cells": [
  {
   "cell_type": "code",
   "execution_count": 1,
   "id": "5c0d6eea-3bb8-4f47-a551-574f87f898f7",
   "metadata": {},
   "outputs": [],
   "source": [
    "import numpy as np\n",
    "import matplotlib.pyplot as plt\n",
    "import glob\n",
    "import xarray as xr\n",
    "import sys\n",
    "sys.path.insert(1, '../Modules/')\n",
    "from HW_detection_algorithm import *"
   ]
  },
  {
   "cell_type": "code",
   "execution_count": null,
   "id": "d455cb27-69d7-4edf-8999-52537d45da21",
   "metadata": {},
   "outputs": [],
   "source": [
    "### 1 SET-UP: Target temperature, HW definition and time period ###\n",
    "var=\"tmax\" #tmax,tmin\n",
    "\n",
    "percent_thresh=90\n",
    "duration_min=3\n",
    "\n",
    "### TIME ###\n",
    "clim_start=1993 #1981\n",
    "clim_end=2016 #2010\n",
    "period_start=1940\n",
    "period_end=2022\n",
    "if (period_end<clim_end) or (period_start>clim_start):\n",
    "    raise Exception(\"Climatology period falls outside of target period\")\n",
    "years=[*range(period_start,period_end+1)]\n",
    "climyears=[*range(clim_start,clim_end+1)]\n",
    "\n",
    "nyear=len(years)\n",
    "nclimyear=len(climyears)\n",
    "nday=123 # days in period May to August\n",
    "nrealisation=1 # ensemble members"
   ]
  },
  {
   "cell_type": "code",
   "execution_count": null,
   "id": "646a06a4-80d6-4e6c-b9a3-abfbe7dbd4fc",
   "metadata": {},
   "outputs": [],
   "source": [
    "# 2 LOCATION: Choose by longitude and latitude #\n",
    "\n",
    "# e.g.\n",
    "# LAKE COMO  #\n",
    "# region=\"LakeComo\"\n",
    "#lon = '''9°5'0\"E'''\n",
    "#lat = '''45°49'0\"N'''\n",
    "\n",
    "# Cluj-Napoca #\n",
    "region=\"Cluj-Napoca\"\n",
    "lon='''23°33'00\"E'''\n",
    "lat='''46°46'00\"N'''\n",
    "\n",
    "deg, minutes, seconds, direction =  re.split('[°\\'\"]', lat)\n",
    "latP= (float(deg) + float(minutes)/60 + float(seconds)/(60*60)) * (-1 if direction in ['W', 'S'] else 1)\n",
    "deg, minutes, seconds, direction =  re.split('[°\\'\"]',lon)\n",
    "lonP= (float(deg) + float(minutes)/60 + float(seconds)/(60*60)) * (-1 if direction in ['W', 'S'] else 1)\n",
    "\n",
    "# Find nearest ERA5 cell #\n",
    "def find_nearest(array, value):\n",
    "    #array = np.asarray(array)\n",
    "    idx = (np.abs(array - value)).argmin()\n",
    "    return array[idx]\n"
   ]
  },
  {
   "cell_type": "code",
   "execution_count": null,
   "id": "922529bf-8ba9-43d1-b6e7-9b40a1b4900d",
   "metadata": {},
   "outputs": [],
   "source": [
    "# 3 DATA: Open/extract ERA5 temperature data #\n",
    "#ds = xr.open_dataset(files[0])\n",
    "#print (ds)\n",
    "\n",
    "files=sorted(glob(\"/work/bk1318/b382634/ERA5/daily_REGRIDC3S/tmax/tmax_*_EUR_MJJA.nc\")[period_start-1940:period_end+1-1940])\n",
    "ds = xr.open_mfdataset(files, combine='by_coords')\n",
    "\n",
    "lons=ds.lon.values\n",
    "lats=ds.lat.values\n",
    "ind_lon=np.argwhere(lons==find_nearest(lons,lonP))[0]\n",
    "ind_lat=np.argwhere(lats==find_nearest(lats,latP))[0]\n",
    "t_data=ds[var].values[:,ind_lat,ind_lon].reshape(nyear,nday,1)\n"
   ]
  },
  {
   "cell_type": "code",
   "execution_count": null,
   "id": "e534bf55-d955-45f9-ab42-acf549e3287a",
   "metadata": {},
   "outputs": [],
   "source": [
    "# 4 HW DETECTION: Run HW detection algorithm #\n",
    "HW_output=calc_HWMIyear(t_data, climyears, years, cross_valid = False, percent_thresh = percent_thresh, duration_min = duration_min, opt=\"polyfit\")"
   ]
  },
  {
   "cell_type": "code",
   "execution_count": null,
   "id": "10f5c13f-9622-4b47-a252-8edeb94f6cfd",
   "metadata": {},
   "outputs": [],
   "source": [
    "# 5 SAVE: HW occurrence used for Feature Selection (go to Notebook #2) #\n",
    "\n",
    "dataset_out=xr.DataArray(np.sum(HW_output['HW_occurrence'],axis=1), dims=[\"year\"], name=\"NumberHWDays\")\n",
    "dataset_out.to_netcdf(f\"Output/NumberHWdays_ERA5_{region}.nc\")"
   ]
  },
  {
   "cell_type": "code",
   "execution_count": null,
   "id": "7005f4a5-7887-437c-ba7a-4b0919859e51",
   "metadata": {},
   "outputs": [],
   "source": [
    "# 6 PLOTTING - optional #\n",
    "# 6.1 2D TIME SERIES - HW OCCURRENCE #\n",
    "\n",
    "fig,ax=plt.subplots(figsize=(10,6))\n",
    "\n",
    "plt.pcolormesh(years,range(nday),HW_output['HW_occurrence'].T,cmap='binary')\n",
    "\n",
    "plt.xticks(range(1940,2022,10))\n",
    "plt.ylim([0,nday])\n",
    "ticks=np.array([0,31,31+30,31+30+31])+15\n",
    "\n",
    "plt.yticks(ticks,[\"May\",\"Jun\",\"Jul\",\"Aug\"],rotation=45)\n",
    "ax.yaxis.set_minor_locator(FixedLocator(np.concatenate((ticks-15,np.array([31+30+31+30])))))\n",
    "ax.xaxis.set_minor_locator(FixedLocator(np.arange(1940,2022,10)+0.5))\n",
    "ax.tick_params(which='minor',width=1)\n",
    "\n",
    "plt.plot([-1],[-1],'ks')\n",
    "\n",
    "plt.xlim([1939.5,2022.5])\n",
    "plt.grid(axis='y',which='minor')\n",
    "plt.grid(axis='x',which='minor')\n",
    "plt.show()"
   ]
  },
  {
   "cell_type": "code",
   "execution_count": null,
   "id": "7f6ef2c4-e6ef-43c1-8ef0-9f0db19759f2",
   "metadata": {},
   "outputs": [],
   "source": [
    "# 6.2 2D TIME SERIES - HW INTENSITY #\n",
    "\n",
    "fig,ax=plt.subplots(figsize=(10,6))\n",
    "\n",
    "plt.pcolormesh(years,range(nday),HW_output['HW_intensity_daily'].T,cmap='Reds')\n",
    "plt.colorbar(label=\"HW Intensity ($^o$C)\")\n",
    "plt.xticks(range(1940,2022,10))\n",
    "plt.ylim([0,nday])\n",
    "ticks=np.array([0,31,31+30,31+30+31])+15\n",
    "\n",
    "plt.yticks(ticks,[\"May\",\"Jun\",\"Jul\",\"Aug\"],rotation=45)\n",
    "ax.yaxis.set_minor_locator(FixedLocator(np.concatenate((ticks-15,np.array([31+30+31+30])))))\n",
    "ax.xaxis.set_minor_locator(FixedLocator(np.arange(1940,2022,10)+0.5))\n",
    "ax.tick_params(which='minor',width=1)\n",
    "\n",
    "plt.plot([-1],[-1],'ks')\n",
    "\n",
    "plt.xlim([1939.5,2022.5])\n",
    "plt.grid(axis='y',which='minor')\n",
    "plt.grid(axis='x',which='minor')\n",
    "plt.show()"
   ]
  },
  {
   "cell_type": "code",
   "execution_count": null,
   "id": "43ec285a-b07f-47e9-9c88-df3a1e42469d",
   "metadata": {},
   "outputs": [],
   "source": [
    "# 6.3 HWMI/Number of days (annual time series) #\n",
    "fig, axs = plt.subplots(2, 1, figsize=(13, 6))\n",
    "\n",
    "axs[0].set_title(\"ERA5\", fontweight='bold')\n",
    "\n",
    "axs[0].plot(years, HW_output['HWMI_year'], '-', lw=2, c='black',zorder=5)\n",
    "axs[0].set_ylabel(\"HWMI ($^o$C)\",fontsize=12)\n",
    "axs[0].set_ylim([0,5])\n",
    "\n",
    "axs[1].plot(years, np.sum(HW_output['HW_occurrence'],axis=1), '-', lw=2, c='black',zorder=5)\n",
    "axs[1].set_ylabel(\"Number of HW days\",fontsize=12)\n",
    "axs[1].set_ylim([0,60])\n",
    "\n",
    "axs[1].set_xlabel(\"Year\")\n",
    "\n",
    "for i in range(2):\n",
    "    axs[i].set_xlim([1940,2022])\n",
    "    axs[i].grid(zorder=1)\n",
    "\n",
    "# Display the subplots\n",
    "plt.show()"
   ]
  },
  {
   "cell_type": "code",
   "execution_count": null,
   "id": "b3216adc-37cd-4bb2-a218-0904c11599bc",
   "metadata": {},
   "outputs": [],
   "source": [
    "### EXTRACT HEATWAVE DATA FROM PALEO-CLIMATE SIMULATION ###\n",
    "\n",
    "ds2 = xr.open_dataset(\"past2k_tasmax_HWs_EUR_MJJA_period70018850_clim88218850.nc\", decode_times=False)\n",
    "\n",
    "past2k_HWs=ds2['NDQ90_May'].values+ds2['NDQ90_Jun'].values+ds2['NDQ90_Jul'].values\n",
    "print (past2k_HWs.shape)\n",
    "lons=ds2.lon.values\n",
    "lats=ds2.lat.values\n",
    "ind_lon=int(np.argwhere(lons==find_nearest(lons,lonP))[0])\n",
    "ind_lat=int(np.argwhere(lats==find_nearest(lats,latP))[0])\n",
    "print (ind_lon, ind_lat)\n",
    "past2k_HWs_target=past2k_HWs[:,0,ind_lat,ind_lon]\n",
    "print (past2k_HWs_target.shape)\n",
    "dataset_out=xr.DataArray(past2k_HWs_target, dims=[\"year\"], name=\"NumberHWDays\")\n",
    "dataset_out.to_netcdf(f\"NumberHWdays_past2k_{region}.nc\")\n"
   ]
  },
  {
   "cell_type": "code",
   "execution_count": null,
   "id": "321f01b0-36c2-445a-bbe9-7a3387cb8407",
   "metadata": {},
   "outputs": [],
   "source": [
    "# 6.3 HWMI/Number of days (annual time series) #\n",
    "fig, axs = plt.subplots(1, 1, figsize=(13, 4))\n",
    "\n",
    "# Plot final 100 years of 1850-year dataset\n",
    "axs.plot(np.arange(1751,1851,1), past2k_HWs_target[-100:], ls='-', lw=2, c='navy',zorder=5)\n",
    "axs.set_ylabel(\"Number of HW days\",fontsize=12)\n",
    "axs.set_ylim([0,60])\n",
    "\n",
    "axs.set_xlabel(\"Year\")\n",
    "\n",
    "#axs.set_xlim([1940,2022])\n",
    "axs.grid(zorder=1)\n",
    "axs.set_title(\"past2k\", fontweight='bold', color='navy')\n",
    "\n",
    "plt.show()"
   ]
  },
  {
   "cell_type": "code",
   "execution_count": null,
   "id": "58009c7f-ba30-44a9-a236-fe54d5ddd4b3",
   "metadata": {},
   "outputs": [],
   "source": []
  }
 ],
 "metadata": {
  "kernelspec": {
   "display_name": "Python (ropy)",
   "language": "python",
   "name": "ropy"
  },
  "language_info": {
   "codemirror_mode": {
    "name": "ipython",
    "version": 3
   },
   "file_extension": ".py",
   "mimetype": "text/x-python",
   "name": "python",
   "nbconvert_exporter": "python",
   "pygments_lexer": "ipython3",
   "version": "3.10.16"
  }
 },
 "nbformat": 4,
 "nbformat_minor": 5
}
