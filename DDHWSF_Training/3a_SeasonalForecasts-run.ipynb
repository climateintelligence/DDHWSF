{
 "cells": [
  {
   "cell_type": "code",
   "execution_count": 1,
   "id": "5cee8351-eafa-4791-ba31-46b1d97df904",
   "metadata": {
    "tags": []
   },
   "outputs": [],
   "source": [
    "import numpy as np\n",
    "from netCDF4 import Dataset\n",
    "import glob\n",
    "import matplotlib.pyplot as plt\n",
    "import scipy.stats as sp\n",
    "import pandas as pd\n",
    "from sklearn.metrics import mean_squared_error\n",
    "from math import cos, asin, sqrt, pi\n",
    "\n",
    "#import warnings\n",
    "#warnings.filterwarnings('ignore')\n",
    "\n",
    "import sys\n",
    "sys.path.insert(1, '../Modules/')\n",
    "from ML_models_regressors import clf_LR, clf_SVR, clf_DT, clf_RF, clf_neigh, clf_AB, clf_MLP, clf_LGBM\n",
    "from seasonal_forecasts import *"
   ]
  },
  {
   "cell_type": "code",
   "execution_count": 2,
   "id": "fba7558b-afc9-4271-a64c-7990ec8ccba7",
   "metadata": {
    "tags": []
   },
   "outputs": [],
   "source": [
    "clf=clf_LR\n",
    "mod=\"LR\"\n",
    "\n",
    "output_file = f\"Output/DDHWSF_Forecasts_{mod}_19792021.csv\"\n",
    "\n",
    "init=\"May\" # forecast \"initialisation\" month\n",
    "trg=\"MJJ\" # forecast target month\n"
   ]
  },
  {
   "cell_type": "code",
   "execution_count": 3,
   "id": "e8a727f0-ef46-4941-96a2-151a57de25f9",
   "metadata": {
    "tags": []
   },
   "outputs": [
    {
     "name": "stdout",
     "output_type": "stream",
     "text": [
      "Number of grid points:  1\n"
     ]
    }
   ],
   "source": [
    "# Solutions files for each grid point #\n",
    "files=sorted(glob.glob(\"Output/optimisation_output.csv\"))\n",
    "print (\"Number of grid points: \",len(files))"
   ]
  },
  {
   "cell_type": "code",
   "execution_count": 4,
   "id": "6a72cf65-c56a-469e-9b2f-0703343be8a1",
   "metadata": {
    "tags": []
   },
   "outputs": [],
   "source": [
    "### Open solutions and extract best solution ###\n",
    "\n",
    "# Lists for best solutions #\n",
    "\n",
    "nevals=[] # number of evaluations \n",
    "cv_best=[] # best cross-validation/training score\n",
    "test_best=[] # test score corresponding to cv_best\n",
    "sols_best=[] # predictors correspondin to cv_best\n",
    "\n",
    "for file in files:\n",
    "    #print (file[-9:-4])\n",
    "    sol_file_av = pd.read_csv(file, index_col=None, sep=' ', header=0)#[:20]\n",
    "    if sol_file_av.shape[0]>0:\n",
    "        nevals.append(sol_file_av.shape[0])\n",
    "        sols_best.append(np.fromstring(sol_file_av.Sol[sol_file_av.sort_values(by=['CV'],ascending=True).index[0]].replace('[', '').replace(']', '').replace('\\n', ''), dtype=float, sep=' '))\n",
    "        cv_best.append(sol_file_av.CV[sol_file_av.sort_values(by=['CV'],ascending=True).index[0]])\n",
    "        test_best.append(sol_file_av.Test[sol_file_av.sort_values(by=['CV'],ascending=True).index[0]])\n",
    "    else:\n",
    "        print (\"Empty file - no solutions\")\n"
   ]
  },
  {
   "cell_type": "code",
   "execution_count": 5,
   "id": "021940da-aa59-47c1-9e25-323afae46af7",
   "metadata": {
    "tags": []
   },
   "outputs": [],
   "source": [
    "### Open HW target dataset ###\n",
    "\n",
    "dataset=Dataset(\"Output/NumberHWdays_past2k_Cluj-Napoca.nc\",'r')\n",
    "target_past2k=dataset['NumberHWDays'][:]\n",
    "\n",
    "dataset=Dataset(\"Output/NumberHWdays_ERA5_Cluj-Napoca.nc\",'r') \n",
    "target_ERA5=dataset['NumberHWDays'][1979-1940:2021-1940]\n",
    "  \n",
    "#===============================#\n",
    "\n",
    "pred_dataframe_era5 = pd.read_csv('Predictors_dataset_ERA5_weekly.csv', index_col=0)\n",
    "\n",
    "pred_dataframe_past2k = pd.read_csv('Predictors_dataset_past2k_weekly.csv', index_col=0)\n",
    "\n",
    "pred_dataframe=pd.concat([pred_dataframe_past2k,pred_dataframe_era5])\n",
    "\n",
    "# Convert ERA5 predictor to past2k units\n",
    "# Soil Moisture kg/m2 , ERA5 - m3/s3 (divide by 0.1m, divide by 1000 kg.m3, times by 0.7 = divide by 70)\n",
    "pred_dataframe['smEurope_cluster1']['1979-01-01':]=(pred_dataframe['smEurope_cluster1']['1979-01-01':].values)*70\n",
    "pred_dataframe['smEurope_cluster2']['1979-01-01':]=(pred_dataframe['smEurope_cluster2']['1979-01-01':].values)*70\n",
    "pred_dataframe['smEurope_cluster3']['1979-01-01':]=(pred_dataframe['smEurope_cluster3']['1979-01-01':].values)*70\n",
    "pred_dataframe['smEurope_cluster4']['1979-01-01':]=(pred_dataframe['smEurope_cluster4']['1979-01-01':].values)*70\n",
    "pred_dataframe['smEurope_cluster5']['1979-01-01':]=(pred_dataframe['smEurope_cluster5']['1979-01-01':].values)*70\n",
    "\n",
    "# SIC Arctic\n",
    "# past2k - percentage , ERA5 - proportion \n",
    "pred_dataframe['sicArctic_cluster1']['1979-01-01':]=pred_dataframe['sicArctic_cluster1']['1979-01-01':].values*100\n",
    "pred_dataframe['sicArctic_cluster2']['1979-01-01':]=pred_dataframe['sicArctic_cluster2']['1979-01-01':].values*100\n",
    "pred_dataframe['sicArctic_cluster3']['1979-01-01':]=pred_dataframe['sicArctic_cluster3']['1979-01-01':].values*100\n",
    "pred_dataframe['sicArctic_cluster4']['1979-01-01':]=pred_dataframe['sicArctic_cluster4']['1979-01-01':].values*100\n",
    "pred_dataframe['sicArctic_cluster5']['1979-01-01':]=pred_dataframe['sicArctic_cluster5']['1979-01-01':].values*100\n",
    "\n",
    "l=42 # (length of period: 1950-2022)"
   ]
  },
  {
   "cell_type": "code",
   "execution_count": 6,
   "id": "bb052eb3-73f9-4b06-af78-90b0060bea7a",
   "metadata": {
    "tags": []
   },
   "outputs": [
    {
     "name": "stdout",
     "output_type": "stream",
     "text": [
      "('LinearRegression', array([ 4.38852912,  2.16353778,  6.80066067,  4.74404305, 11.90068475,\n",
      "        8.14156729,  7.06632814,  3.87474861,  5.01801922, 14.31489484,\n",
      "        4.79892366, 11.13270093,  4.65979454,  9.08541449,  3.94975005,\n",
      "        4.74042149,  5.51727131,  6.2208489 , 10.7881366 ,  7.13534234,\n",
      "        9.48664615, 11.74181037,  4.61538962,  5.62371493, 15.27600022,\n",
      "        9.5567436 ,  9.62906527, 10.91329812, 15.05162398, 13.55527152,\n",
      "       12.74272923,  4.85176735, 13.55220792,  9.7723232 ,  7.08502428,\n",
      "       12.1406066 , 12.66468034, 11.70345232, 13.68363235, 11.86235011,\n",
      "       14.67341543, 21.39269134]))\n",
      "Saved predictions with metadata to Output/DDHWSF_Forecasts_LR_19792021.csv\n"
     ]
    }
   ],
   "source": [
    "remove_co2=True\n",
    "\n",
    "preds=forecast(target_past2k, target_ERA5, sols_best[0], clf, pred_dataframe, remove_co2=True)\n",
    "print (preds)\n",
    "saver(output_file,preds[1],l)"
   ]
  },
  {
   "cell_type": "code",
   "execution_count": null,
   "id": "f8ed3cda-3d34-4e2c-acd4-18194bcba6f9",
   "metadata": {},
   "outputs": [],
   "source": []
  }
 ],
 "metadata": {
  "kernelspec": {
   "display_name": "Python (ropy)",
   "language": "python",
   "name": "ropy"
  },
  "language_info": {
   "codemirror_mode": {
    "name": "ipython",
    "version": 3
   },
   "file_extension": ".py",
   "mimetype": "text/x-python",
   "name": "python",
   "nbconvert_exporter": "python",
   "pygments_lexer": "ipython3",
   "version": "3.10.16"
  }
 },
 "nbformat": 4,
 "nbformat_minor": 5
}
